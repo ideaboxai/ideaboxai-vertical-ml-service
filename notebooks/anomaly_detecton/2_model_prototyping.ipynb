{
 "cells": [
  {
   "cell_type": "markdown",
   "id": "bbc0af12",
   "metadata": {},
   "source": [
    "# Model Prototyping for Anomaly Detection"
   ]
  },
  {
   "cell_type": "markdown",
   "id": "5ea07974",
   "metadata": {},
   "source": []
  }
 ],
 "metadata": {
  "language_info": {
   "name": "python"
  }
 },
 "nbformat": 4,
 "nbformat_minor": 5
}
